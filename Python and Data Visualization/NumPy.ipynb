{
 "cells": [
  {
   "cell_type": "markdown",
   "id": "6292c86d",
   "metadata": {},
   "source": [
    "# NumPy\n",
    "\n",
    "The fundamental package for scientific computing with Python\n",
    "\n",
    "NumPy offers comprehensive mathematical functions, random number generators, linear algebra routines, Fourier transforms, and more.\n",
    "\n",
    "Case Studies: __[Image of a Black Hole](https://numpy.org/case-studies/blackhole-image/)__, __[Detection of Gravitational Wave](https://numpy.org/case-studies/gw-discov/)__, __[Sports Analytics](https://numpy.org/case-studies/cricket-analytics/)__, __[Pose Estimation Using Deep Learning](https://numpy.org/case-studies/deeplabcut-dnn/)__"
   ]
  },
  {
   "cell_type": "markdown",
   "id": "2df0ea5d",
   "metadata": {},
   "source": [
    "In this tutorial you will learn:\n",
    "\n",
    "- [How to Create Array](#How-To-Create-Array)\n",
    "    - [np.array method](#1.-using-np.array-method)\n",
    "    - [using arange() and linspace()](#2.-Generater-arrays-using-arange()-and-linspace())\n",
    "    - [Generate arrays using ones or zeros](#3.-Generate-arrays-using-ones-or-zeros)\n",
    "    - [Generate arrays using random.rand( )](#4.-Generate-arrays-using-random.rand(-))\n",
    "- [Why Numpy is better than List](#Why-Numpy-and-not-List)\n",
    "- [Array shape and reshape](#Array-shape-and-reshape)\n",
    "- [Numpy math](#Numpy-math)\n",
    "- [Array Broadcasting](#Array-Broadcasting)\n",
    "- [Questions](#Questions)"
   ]
  },
  {
   "cell_type": "code",
   "execution_count": 1,
   "id": "e8dcac4c",
   "metadata": {},
   "outputs": [],
   "source": [
    "import numpy as np"
   ]
  },
  {
   "cell_type": "markdown",
   "id": "7a44cab3",
   "metadata": {},
   "source": [
    "## How to Create Array"
   ]
  },
  {
   "cell_type": "markdown",
   "id": "b87f3080",
   "metadata": {},
   "source": [
    "### 1. using np.array method\n",
    "\n",
    "- Ordered collection of elements of basic data types of given length\n",
    "- Syntax: numpy.array(object)"
   ]
  },
  {
   "cell_type": "code",
   "execution_count": 2,
   "id": "095f1fea",
   "metadata": {},
   "outputs": [
    {
     "name": "stdout",
     "output_type": "stream",
     "text": [
      "[1 2 3 4 5 6]\n",
      "<class 'numpy.ndarray'>\n",
      "int32\n"
     ]
    }
   ],
   "source": [
    "# using np.array to convert a list to array\n",
    "\n",
    "array1=np.array([1,2,3,4,5,6])\n",
    "print(array1)\n",
    "print(type(array1))\n",
    "print(array1.dtype)"
   ]
  },
  {
   "cell_type": "code",
   "execution_count": 22,
   "id": "39509837",
   "metadata": {},
   "outputs": [
    {
     "data": {
      "text/plain": [
       "(6,)"
      ]
     },
     "execution_count": 22,
     "metadata": {},
     "output_type": "execute_result"
    }
   ],
   "source": [
    "array1.shape"
   ]
  },
  {
   "cell_type": "code",
   "execution_count": 23,
   "id": "cde9ed19",
   "metadata": {},
   "outputs": [
    {
     "data": {
      "text/plain": [
       "1"
      ]
     },
     "execution_count": 23,
     "metadata": {},
     "output_type": "execute_result"
    }
   ],
   "source": [
    "array1.ndim"
   ]
  },
  {
   "cell_type": "markdown",
   "id": "461a4f90",
   "metadata": {},
   "source": [
    "##### Important Note - \n",
    "- Arrray in python is collection of different datatype elements\n",
    "- All elements are coerced(converted) to same data type i.e conversion will be done of lower datatype elements to higher datatype elements"
   ]
  },
  {
   "cell_type": "code",
   "execution_count": 3,
   "id": "c9d3fa53",
   "metadata": {},
   "outputs": [
    {
     "name": "stdout",
     "output_type": "stream",
     "text": [
      "['2' '3' '5.6' 'n']\n",
      "<class 'numpy.ndarray'>\n",
      "<class 'numpy.str_'>\n",
      "<class 'numpy.str_'>\n",
      "<class 'numpy.str_'>\n",
      "<class 'numpy.str_'>\n"
     ]
    }
   ],
   "source": [
    "arr1=np.array([2,3,5.6,'n'])\n",
    "print(arr1)\n",
    "print(type(arr1))\n",
    "print(type(arr1[0]))\n",
    "print(type(arr1[1]))\n",
    "print(type(arr1[2]))\n",
    "print(type(arr1[3]))"
   ]
  },
  {
   "cell_type": "code",
   "execution_count": 24,
   "id": "0e3ef489",
   "metadata": {},
   "outputs": [
    {
     "name": "stdout",
     "output_type": "stream",
     "text": [
      "<class 'numpy.ndarray'>\n",
      "float64\n",
      "(2, 3)\n",
      "2\n"
     ]
    }
   ],
   "source": [
    "arr2=np.array([[1, 2, 3.0], [4, 5, 6]])\n",
    "print(type(arr2))\n",
    "print(arr2.dtype)\n",
    "print(arr2.shape)\n",
    "print(arr2.ndim)"
   ]
  },
  {
   "cell_type": "markdown",
   "id": "b52c1055",
   "metadata": {},
   "source": [
    "### 2. Generater arrays using arange() and linspace()\n",
    "\n",
    "numpy.linspace(start, stop, num): Return evenly spaced numbers over a specified interval.\n",
    "numpy.arange(start, stop, step): Return evenly spaced values within a given interval."
   ]
  },
  {
   "cell_type": "code",
   "execution_count": 11,
   "id": "798e97c5",
   "metadata": {},
   "outputs": [
    {
     "name": "stdout",
     "output_type": "stream",
     "text": [
      "[10 13 16 19 22 25 28]\n"
     ]
    }
   ],
   "source": [
    "a1 = np.arange(start=10,stop=30,step=3)\n",
    "print(a1)"
   ]
  },
  {
   "cell_type": "code",
   "execution_count": null,
   "id": "15832055",
   "metadata": {},
   "outputs": [],
   "source": [
    "# Task: Create array of elements between 70 to 50 with 5 difference"
   ]
  },
  {
   "cell_type": "code",
   "execution_count": 13,
   "id": "6e81c16e",
   "metadata": {},
   "outputs": [
    {
     "data": {
      "text/plain": [
       "array([20. , 22.5, 25. , 27.5, 30. ])"
      ]
     },
     "execution_count": 13,
     "metadata": {},
     "output_type": "execute_result"
    }
   ],
   "source": [
    "np.linspace(20.0, 30.0, num=5)"
   ]
  },
  {
   "cell_type": "markdown",
   "id": "8f5db8df",
   "metadata": {},
   "source": [
    "### 3. Generate arrays using ones or zeros"
   ]
  },
  {
   "cell_type": "code",
   "execution_count": 14,
   "id": "6505f726",
   "metadata": {},
   "outputs": [
    {
     "name": "stdout",
     "output_type": "stream",
     "text": [
      "[1. 1. 1.]\n"
     ]
    }
   ],
   "source": [
    "print(np.ones(3))"
   ]
  },
  {
   "cell_type": "code",
   "execution_count": 15,
   "id": "4309fc60",
   "metadata": {},
   "outputs": [
    {
     "name": "stdout",
     "output_type": "stream",
     "text": [
      "[[1. 1. 1.]\n",
      " [1. 1. 1.]\n",
      " [1. 1. 1.]]\n"
     ]
    }
   ],
   "source": [
    "print(np.ones((3, 3)))"
   ]
  },
  {
   "cell_type": "code",
   "execution_count": 20,
   "id": "a69eada4",
   "metadata": {},
   "outputs": [
    {
     "name": "stdout",
     "output_type": "stream",
     "text": [
      "[[1 1 1]\n",
      " [1 1 1]\n",
      " [1 1 1]]\n"
     ]
    }
   ],
   "source": [
    "print(np.ones((3, 3),int))"
   ]
  },
  {
   "cell_type": "code",
   "execution_count": 16,
   "id": "d2c2f1a2",
   "metadata": {},
   "outputs": [
    {
     "name": "stdout",
     "output_type": "stream",
     "text": [
      "[0. 0. 0.]\n"
     ]
    }
   ],
   "source": [
    "print(np.zeros(3))"
   ]
  },
  {
   "cell_type": "code",
   "execution_count": 17,
   "id": "2cf5077d",
   "metadata": {},
   "outputs": [
    {
     "name": "stdout",
     "output_type": "stream",
     "text": [
      "[[0. 0. 0.]\n",
      " [0. 0. 0.]\n",
      " [0. 0. 0.]]\n"
     ]
    }
   ],
   "source": [
    "print(np.zeros((3,3)))"
   ]
  },
  {
   "cell_type": "code",
   "execution_count": null,
   "id": "c2f7a12a",
   "metadata": {},
   "outputs": [],
   "source": [
    "np.full((2,2), 7) # Create a constant array"
   ]
  },
  {
   "cell_type": "code",
   "execution_count": 18,
   "id": "6a6e353d",
   "metadata": {},
   "outputs": [
    {
     "name": "stdout",
     "output_type": "stream",
     "text": [
      "[[1. 0. 0.]\n",
      " [0. 1. 0.]\n",
      " [0. 0. 1.]]\n"
     ]
    }
   ],
   "source": [
    "print(np.eye(3))"
   ]
  },
  {
   "cell_type": "markdown",
   "id": "0f53b1f5",
   "metadata": {},
   "source": [
    "#### 4. Generate arrays using random.rand( )\n",
    "- numpy.random.rand()- returns an array of given shape filled with random values\n",
    "- Syntax:numpy.random.rand(shape)\n",
    "- shape - integer or sequence of integers"
   ]
  },
  {
   "cell_type": "code",
   "execution_count": 25,
   "id": "4c46154d",
   "metadata": {},
   "outputs": [
    {
     "data": {
      "text/plain": [
       "array([0.09641187, 0.52112144, 0.88820988, 0.78229578, 0.6329528 ])"
      ]
     },
     "execution_count": 25,
     "metadata": {},
     "output_type": "execute_result"
    }
   ],
   "source": [
    "#Create 1D array of 5 random numbers between 0 and 1\n",
    "np.random.rand(5)"
   ]
  },
  {
   "cell_type": "code",
   "execution_count": 26,
   "id": "f6e002e7",
   "metadata": {},
   "outputs": [
    {
     "data": {
      "text/plain": [
       "array([[0.86004372, 0.0849638 , 0.07780084, 0.17197356, 0.27747319],\n",
       "       [0.93379082, 0.01028457, 0.40576378, 0.36991277, 0.72123398],\n",
       "       [0.35444982, 0.44037879, 0.2496505 , 0.72139096, 0.32004748],\n",
       "       [0.40581535, 0.00785078, 0.00276489, 0.3395287 , 0.03615691],\n",
       "       [0.34279158, 0.15151847, 0.50735565, 0.17756865, 0.63349147],\n",
       "       [0.43123195, 0.09780607, 0.06167145, 0.4527624 , 0.3179455 ],\n",
       "       [0.54000771, 0.81573215, 0.99097297, 0.38621757, 0.53750879]])"
      ]
     },
     "execution_count": 26,
     "metadata": {},
     "output_type": "execute_result"
    }
   ],
   "source": [
    "#Create 2D array of 35 random numbers between 0 and 1\n",
    "np.random.rand(7,5)"
   ]
  },
  {
   "cell_type": "code",
   "execution_count": 27,
   "id": "8a41ef87",
   "metadata": {},
   "outputs": [
    {
     "data": {
      "text/plain": [
       "array([[131, 123, 138, 148, 132],\n",
       "       [139, 130, 101, 146, 136],\n",
       "       [103, 124, 132, 113, 137],\n",
       "       [109, 115, 139, 141, 127],\n",
       "       [103, 129, 119, 138, 142],\n",
       "       [126, 121, 122, 112, 126],\n",
       "       [101, 100, 123, 125, 102]])"
      ]
     },
     "execution_count": 27,
     "metadata": {},
     "output_type": "execute_result"
    }
   ],
   "source": [
    "# Create 2D array of 35 random int elements between 100 to 150\n",
    "np.random.randint(100,150,(7,5))"
   ]
  },
  {
   "cell_type": "code",
   "execution_count": 28,
   "id": "c4dde70f",
   "metadata": {},
   "outputs": [
    {
     "name": "stdout",
     "output_type": "stream",
     "text": [
      "[0.97360656 0.29163634 0.6562037 ]\n"
     ]
    }
   ],
   "source": [
    "#Sampling over uniform distribution on [0,1)\n",
    "print(np.random.random(3))"
   ]
  },
  {
   "cell_type": "code",
   "execution_count": 29,
   "id": "e33c60da",
   "metadata": {},
   "outputs": [
    {
     "name": "stdout",
     "output_type": "stream",
     "text": [
      "[[0.3231916  0.23941253]\n",
      " [0.40944919 0.69110538]]\n"
     ]
    }
   ],
   "source": [
    "print(np.random.random((2, 2)))"
   ]
  },
  {
   "cell_type": "code",
   "execution_count": 30,
   "id": "70ac7043",
   "metadata": {},
   "outputs": [
    {
     "name": "stdout",
     "output_type": "stream",
     "text": [
      "[[ 0.06194779 -1.57325076  0.27736139]\n",
      " [ 0.03122204  0.0515224  -1.65136258]\n",
      " [-0.4878655   0.50430514 -2.11885567]]\n"
     ]
    }
   ],
   "source": [
    "#Sampling over standard normal distribution\n",
    "\n",
    "print(np.random.randn(3,3))"
   ]
  },
  {
   "cell_type": "markdown",
   "id": "a9a9924e",
   "metadata": {},
   "source": [
    "#### Why NumPy and not list\n",
    "\n",
    "1. Speed - Array is faster than list\n",
    "2. Memory Storage - Array takes less memory than list"
   ]
  },
  {
   "cell_type": "code",
   "execution_count": 6,
   "id": "fbc3e074",
   "metadata": {},
   "outputs": [
    {
     "name": "stdout",
     "output_type": "stream",
     "text": [
      "0.006520748138427734\n"
     ]
    }
   ],
   "source": [
    "import time\n",
    "# Consider case for List\n",
    "py_list=[i for i in range(100000)]\n",
    "start=time.time()\n",
    "py_list=[i+4 for i in py_list]\n",
    "stop=time.time()\n",
    "print(stop-start)"
   ]
  },
  {
   "cell_type": "code",
   "execution_count": 8,
   "id": "da7032d3",
   "metadata": {},
   "outputs": [
    {
     "name": "stdout",
     "output_type": "stream",
     "text": [
      "0.0017671585083007812\n"
     ]
    }
   ],
   "source": [
    "# Consider case for Numpy Array\n",
    "\n",
    "py_arr=np.array([i for i in range(1000000)])\n",
    "start=time.time()\n",
    "py_arr=py_arr+4\n",
    "stop=time.time()\n",
    "print(stop-start)"
   ]
  },
  {
   "cell_type": "code",
   "execution_count": 9,
   "id": "3770da69",
   "metadata": {},
   "outputs": [
    {
     "name": "stdout",
     "output_type": "stream",
     "text": [
      "<class 'numpy.ndarray'>\n",
      "100\n",
      "Total space taken by a1 is 400\n"
     ]
    }
   ],
   "source": [
    "import sys\n",
    "a1=np.arange(100)\n",
    "print(type(a1))\n",
    "print(a1.size)\n",
    "print(\"Total space taken by a1 is\",a1.itemsize*100)"
   ]
  },
  {
   "cell_type": "code",
   "execution_count": 10,
   "id": "27d3e521",
   "metadata": {},
   "outputs": [
    {
     "name": "stdout",
     "output_type": "stream",
     "text": [
      "Total size taken by l1 = 2400\n"
     ]
    }
   ],
   "source": [
    "l1=[i for i in range(100)]\n",
    "print(\"Total size taken by l1 =\",sys.getsizeof(l1[0])*len(l1))"
   ]
  },
  {
   "cell_type": "markdown",
   "id": "dd03eb6f",
   "metadata": {},
   "source": [
    "## Array shape and reshape"
   ]
  },
  {
   "cell_type": "code",
   "execution_count": 34,
   "id": "1a3e2d90",
   "metadata": {},
   "outputs": [
    {
     "name": "stdout",
     "output_type": "stream",
     "text": [
      "[[1 2 3 4]\n",
      " [6 7 8 9]]\n",
      "(2, 4)\n"
     ]
    }
   ],
   "source": [
    "array_2d=np.array([[1,2,3,4],[6,7,8,9]])\n",
    "print(array_2d)\n",
    "print(array_2d.shape)"
   ]
  },
  {
   "cell_type": "code",
   "execution_count": 36,
   "id": "3cb7b3b2",
   "metadata": {},
   "outputs": [
    {
     "data": {
      "text/plain": [
       "array([[1, 2],\n",
       "       [3, 4],\n",
       "       [6, 7],\n",
       "       [8, 9]])"
      ]
     },
     "execution_count": 36,
     "metadata": {},
     "output_type": "execute_result"
    }
   ],
   "source": [
    "array_2d.reshape(4,2)"
   ]
  },
  {
   "cell_type": "code",
   "execution_count": 35,
   "id": "0e6426fe",
   "metadata": {},
   "outputs": [
    {
     "data": {
      "text/plain": [
       "array([[1, 2, 3, 4, 6, 7, 8, 9]])"
      ]
     },
     "execution_count": 35,
     "metadata": {},
     "output_type": "execute_result"
    }
   ],
   "source": [
    "array_2d.reshape(1,8)"
   ]
  },
  {
   "cell_type": "code",
   "execution_count": 37,
   "id": "7f712871",
   "metadata": {},
   "outputs": [
    {
     "data": {
      "text/plain": [
       "(4,)"
      ]
     },
     "execution_count": 37,
     "metadata": {},
     "output_type": "execute_result"
    }
   ],
   "source": [
    "array_1d = np.array([1, 2, 3, 4])\n",
    "array_1d.shape"
   ]
  },
  {
   "cell_type": "code",
   "execution_count": 38,
   "id": "74df113a",
   "metadata": {},
   "outputs": [
    {
     "data": {
      "text/plain": [
       "array([[1, 2, 3, 4]])"
      ]
     },
     "execution_count": 38,
     "metadata": {},
     "output_type": "execute_result"
    }
   ],
   "source": [
    "array_1d.reshape(-1, 4)"
   ]
  },
  {
   "cell_type": "code",
   "execution_count": 39,
   "id": "3ef0b8f0",
   "metadata": {},
   "outputs": [
    {
     "name": "stdout",
     "output_type": "stream",
     "text": [
      "(1, 4)\n"
     ]
    }
   ],
   "source": [
    "print(array_1d.reshape(-1, 4).shape)"
   ]
  },
  {
   "cell_type": "code",
   "execution_count": 41,
   "id": "d632d2bf",
   "metadata": {},
   "outputs": [
    {
     "name": "stdout",
     "output_type": "stream",
     "text": [
      "4\n"
     ]
    }
   ],
   "source": [
    "print(array_1d.size)"
   ]
  },
  {
   "cell_type": "code",
   "execution_count": 42,
   "id": "7ccefd89",
   "metadata": {},
   "outputs": [
    {
     "name": "stdout",
     "output_type": "stream",
     "text": [
      "[  5  25  45  65  85 105 125 145 165 185 205 225 245 265 285 305 325 345\n",
      " 365 385]\n"
     ]
    }
   ],
   "source": [
    "create_array = np.array([i for i in range(400)])\n",
    "new_array = create_array.reshape((20, 20))\n",
    "\n",
    "print(new_array[:, 5])"
   ]
  },
  {
   "cell_type": "code",
   "execution_count": 43,
   "id": "08590b5b",
   "metadata": {},
   "outputs": [],
   "source": [
    "sample_3d_array = np.array([i for i in range(1000)])\n",
    "sample_3d_array = sample_3d_array.reshape((10, 10, 10))"
   ]
  },
  {
   "cell_type": "code",
   "execution_count": 44,
   "id": "7c5fcd43",
   "metadata": {},
   "outputs": [
    {
     "name": "stdout",
     "output_type": "stream",
     "text": [
      "[ 11 111 211 311 411 511 611 711 811 911]\n"
     ]
    }
   ],
   "source": [
    "print(sample_3d_array[:,1,1])"
   ]
  },
  {
   "cell_type": "code",
   "execution_count": 46,
   "id": "16d8a6e2",
   "metadata": {},
   "outputs": [
    {
     "name": "stdout",
     "output_type": "stream",
     "text": [
      "[201 211 221 231 241 251 261 271 281 291]\n"
     ]
    }
   ],
   "source": [
    "print(sample_3d_array[2, :, 1])"
   ]
  },
  {
   "cell_type": "code",
   "execution_count": 47,
   "id": "d86b2498",
   "metadata": {},
   "outputs": [
    {
     "name": "stdout",
     "output_type": "stream",
     "text": [
      "[230 231 232 233 234 235 236 237 238 239]\n"
     ]
    }
   ],
   "source": [
    "print(sample_3d_array[2, 3, :])"
   ]
  },
  {
   "cell_type": "code",
   "execution_count": 48,
   "id": "5fa0ff76",
   "metadata": {},
   "outputs": [
    {
     "name": "stdout",
     "output_type": "stream",
     "text": [
      "[[100 101 102 103 104 105 106 107 108 109]\n",
      " [110 111 112 113 114 115 116 117 118 119]\n",
      " [120 121 122 123 124 125 126 127 128 129]\n",
      " [130 131 132 133 134 135 136 137 138 139]\n",
      " [140 141 142 143 144 145 146 147 148 149]\n",
      " [150 151 152 153 154 155 156 157 158 159]\n",
      " [160 161 162 163 164 165 166 167 168 169]\n",
      " [170 171 172 173 174 175 176 177 178 179]\n",
      " [180 181 182 183 184 185 186 187 188 189]\n",
      " [190 191 192 193 194 195 196 197 198 199]]\n"
     ]
    }
   ],
   "source": [
    "print(sample_3d_array[1, :, :])"
   ]
  },
  {
   "cell_type": "code",
   "execution_count": 50,
   "id": "3bf6b8bf",
   "metadata": {},
   "outputs": [
    {
     "data": {
      "text/plain": [
       "array([0, 1, 2, 3])"
      ]
     },
     "execution_count": 50,
     "metadata": {},
     "output_type": "execute_result"
    }
   ],
   "source": [
    "a1 = np.arange(4)\n",
    "a1"
   ]
  },
  {
   "cell_type": "code",
   "execution_count": 52,
   "id": "9995cdcc",
   "metadata": {},
   "outputs": [
    {
     "name": "stdout",
     "output_type": "stream",
     "text": [
      "[[0 1]\n",
      " [2 3]]\n"
     ]
    }
   ],
   "source": [
    "print(np.reshape(a1,(2,2), order = 'C'))"
   ]
  },
  {
   "cell_type": "code",
   "execution_count": 53,
   "id": "77ff3c54",
   "metadata": {},
   "outputs": [
    {
     "name": "stdout",
     "output_type": "stream",
     "text": [
      "[[0 2]\n",
      " [1 3]]\n"
     ]
    }
   ],
   "source": [
    "print(np.reshape(a1,(2,2), order = 'F'))"
   ]
  },
  {
   "cell_type": "markdown",
   "id": "629ecec6",
   "metadata": {},
   "source": [
    "## Numpy math"
   ]
  },
  {
   "cell_type": "code",
   "execution_count": 54,
   "id": "9a1120bd",
   "metadata": {},
   "outputs": [
    {
     "name": "stdout",
     "output_type": "stream",
     "text": [
      "[15 25 35 45]\n",
      "[ 50 100 150 200]\n",
      "[3.16227766 4.47213595 5.47722558 6.32455532]\n",
      "[ 100  400  900 1600]\n",
      "[2.20264658e+04 4.85165195e+08 1.06864746e+13 2.35385267e+17]\n",
      "[2.30258509 2.99573227 3.40119738 3.68887945]\n"
     ]
    }
   ],
   "source": [
    "a1 = np.array([10,20,30,40])\n",
    "\n",
    "# element wise operations!!\n",
    "\n",
    "print(a1 + 5)\n",
    "print(a1 * 5)\n",
    "print(np.sqrt(a1))\n",
    "print(np.power(a1, 2))\n",
    "print(np.exp(a1))\n",
    "print(np.log(a1))"
   ]
  },
  {
   "cell_type": "code",
   "execution_count": 56,
   "id": "aad471cb",
   "metadata": {},
   "outputs": [
    {
     "name": "stdout",
     "output_type": "stream",
     "text": [
      "[[1 2 3]\n",
      " [4 5 6]\n",
      " [7 8 9]]\n",
      "shape=(3, 3)\n",
      "45\n",
      "[12 15 18]\n",
      "[ 6 15 24]\n"
     ]
    }
   ],
   "source": [
    "a_2d = np.array([[1, 2, 3], [4, 5, 6], [7, 8, 9]])\n",
    "\n",
    "print(a_2d)\n",
    "print(f'shape={a_2d.shape}')\n",
    "print(np.sum(a_2d))\n",
    "print(np.sum(a_2d, axis=0))\n",
    "print(np.sum(a_2d, axis=1))"
   ]
  },
  {
   "cell_type": "code",
   "execution_count": 57,
   "id": "2e80c782",
   "metadata": {},
   "outputs": [
    {
     "name": "stdout",
     "output_type": "stream",
     "text": [
      "[[[ 0  1  2]\n",
      "  [ 3  4  5]\n",
      "  [ 6  7  8]]\n",
      "\n",
      " [[ 9 10 11]\n",
      "  [12 13 14]\n",
      "  [15 16 17]]\n",
      "\n",
      " [[18 19 20]\n",
      "  [21 22 23]\n",
      "  [24 25 26]]]\n",
      "[[27 30 33]\n",
      " [36 39 42]\n",
      " [45 48 51]]\n",
      "[[ 9 12 15]\n",
      " [36 39 42]\n",
      " [63 66 69]]\n",
      "[ 36 117 198]\n"
     ]
    }
   ],
   "source": [
    "a_3d = np.array([i for i in range(27)]).reshape((3, 3, 3))\n",
    "print(a_3d)\n",
    "\n",
    "print(np.sum(a_3d, axis=0))\n",
    "print(np.sum(a_3d, axis=1))\n",
    "print(np.sum(a_3d, axis=(1, 2)))"
   ]
  },
  {
   "cell_type": "code",
   "execution_count": 59,
   "id": "d406a747",
   "metadata": {},
   "outputs": [
    {
     "name": "stdout",
     "output_type": "stream",
     "text": [
      "[ 5 12 21 32]\n"
     ]
    }
   ],
   "source": [
    "a1 = np.array([1, 2, 3, 4])\n",
    "a2 = np.array([5, 6, 7, 8])\n",
    "print(a1*a2) #element wise multiplication"
   ]
  },
  {
   "cell_type": "code",
   "execution_count": 60,
   "id": "7025e3e8",
   "metadata": {},
   "outputs": [
    {
     "name": "stdout",
     "output_type": "stream",
     "text": [
      "[ 5 12 21 32]\n"
     ]
    }
   ],
   "source": [
    "print(np.multiply(a1,a2))"
   ]
  },
  {
   "cell_type": "code",
   "execution_count": 61,
   "id": "2b612c5f",
   "metadata": {},
   "outputs": [
    {
     "name": "stdout",
     "output_type": "stream",
     "text": [
      "(4,)\n",
      "(4, 1)\n"
     ]
    }
   ],
   "source": [
    "print(a2.shape)\n",
    "print(a2.reshape(4,-1).shape)"
   ]
  },
  {
   "cell_type": "code",
   "execution_count": 63,
   "id": "88c94bca",
   "metadata": {},
   "outputs": [
    {
     "data": {
      "text/plain": [
       "array([[5],\n",
       "       [6],\n",
       "       [7],\n",
       "       [8]])"
      ]
     },
     "execution_count": 63,
     "metadata": {},
     "output_type": "execute_result"
    }
   ],
   "source": [
    "a2.reshape(4,-1)"
   ]
  },
  {
   "cell_type": "code",
   "execution_count": 62,
   "id": "93ed8d0b",
   "metadata": {},
   "outputs": [
    {
     "name": "stdout",
     "output_type": "stream",
     "text": [
      "[[ 5 10 15 20]\n",
      " [ 6 12 18 24]\n",
      " [ 7 14 21 28]\n",
      " [ 8 16 24 32]]\n"
     ]
    }
   ],
   "source": [
    "print(a1 * a2.reshape(4,-1))"
   ]
  },
  {
   "cell_type": "markdown",
   "id": "86e19b98",
   "metadata": {},
   "source": [
    "Doing Dot product in multiple ways"
   ]
  },
  {
   "cell_type": "code",
   "execution_count": 64,
   "id": "e99b2aa0",
   "metadata": {},
   "outputs": [
    {
     "data": {
      "text/plain": [
       "70"
      ]
     },
     "execution_count": 64,
     "metadata": {},
     "output_type": "execute_result"
    }
   ],
   "source": [
    "a1.dot(a2)"
   ]
  },
  {
   "cell_type": "code",
   "execution_count": 65,
   "id": "2dbb2bc4",
   "metadata": {},
   "outputs": [
    {
     "data": {
      "text/plain": [
       "70"
      ]
     },
     "execution_count": 65,
     "metadata": {},
     "output_type": "execute_result"
    }
   ],
   "source": [
    "np.sum(a1*a2)"
   ]
  },
  {
   "cell_type": "code",
   "execution_count": 66,
   "id": "78e1901d",
   "metadata": {},
   "outputs": [
    {
     "data": {
      "text/plain": [
       "70"
      ]
     },
     "execution_count": 66,
     "metadata": {},
     "output_type": "execute_result"
    }
   ],
   "source": [
    "a1 @ a2 # similar to np.matmul(a1,a2)"
   ]
  },
  {
   "cell_type": "code",
   "execution_count": 69,
   "id": "4d5ae652",
   "metadata": {},
   "outputs": [
    {
     "data": {
      "text/plain": [
       "70"
      ]
     },
     "execution_count": 69,
     "metadata": {},
     "output_type": "execute_result"
    }
   ],
   "source": [
    "a1.dot(a2.T)"
   ]
  },
  {
   "cell_type": "code",
   "execution_count": 71,
   "id": "29cfdb30",
   "metadata": {},
   "outputs": [
    {
     "data": {
      "text/plain": [
       "array([[19, 22],\n",
       "       [43, 50]])"
      ]
     },
     "execution_count": 71,
     "metadata": {},
     "output_type": "execute_result"
    }
   ],
   "source": [
    "# Check for 2d arrays\n",
    "\n",
    "mat1 = np.array([[1,2],[3,4]])\n",
    "mat2 = np.array([[5,6],[7,8]])\n",
    "np.matmul(mat1, mat2)"
   ]
  },
  {
   "cell_type": "code",
   "execution_count": 73,
   "id": "26b20690",
   "metadata": {},
   "outputs": [
    {
     "data": {
      "text/plain": [
       "array([[ 5, 12],\n",
       "       [21, 32]])"
      ]
     },
     "execution_count": 73,
     "metadata": {},
     "output_type": "execute_result"
    }
   ],
   "source": [
    "np.multiply(mat1,mat2)"
   ]
  },
  {
   "cell_type": "markdown",
   "id": "6967f041",
   "metadata": {},
   "source": [
    "Note np.multiply is element-wise multiplication, not proper matrix multiplication\n",
    "\n",
    "we use matmul for 2D matrix multiplication. For dim>3, Numpy treats them as a stack of matrices. See __[Documentation on matmul](https://numpy.org/doc/stable/reference/generated/numpy.matmul.html)__"
   ]
  },
  {
   "cell_type": "markdown",
   "id": "033abb87",
   "metadata": {},
   "source": [
    "## Array Broadcasting \n",
    "\n",
    "Numpy has capability to perform operations on arrays with different shapes, inferring/expanding dimension as needed. Taking examples from [Scipy's documentaiton on numpy](https://docs.scipy.org/doc/numpy/user/basics.broadcasting.html), some examples can be \n",
    "\n",
    "```\n",
    "A      (2d array):  5 x 4\n",
    "B      (1d array):      1\n",
    "Result (2d array):  5 x 4\n",
    "\n",
    "\n",
    "A      (3d array):  15 x 3 x 5\n",
    "B      (3d array):  15 x 1 x 5\n",
    "Result (3d array):  15 x 3 x 5\n",
    "\n",
    "A      (3d array):  15 x 3 x 5\n",
    "B      (2d array):       3 x 5\n",
    "Result (3d array):  15 x 3 x 5\n",
    "\n",
    "A      (3d array):  15 x 3 x 5\n",
    "B      (2d array):       3 x 1\n",
    "Result (3d array):  15 x 3 x 5\n",
    "```\n",
    "\n",
    "Essentially all dimensions of size 1 can be \"over-looked\" or \"expanded\" to match dimension from another operator. But the order of such must be matched. Dimension of size 1 is only prepended, not appended. For example, the following would not work, though you might think we can add another dimension at the end of B.\n",
    "\n",
    "```\n",
    "A      (3d array):  15 x 3 x 5\n",
    "B      (2d array):       1 x 3\n",
    "Result (3d array):  15 x 3 x 5\n",
    "```"
   ]
  },
  {
   "cell_type": "code",
   "execution_count": 75,
   "id": "dd409824",
   "metadata": {},
   "outputs": [
    {
     "name": "stdout",
     "output_type": "stream",
     "text": [
      "[[0 1 2]\n",
      " [3 4 5]\n",
      " [6 7 8]]\n",
      "\n",
      "[[1 2 3]]\n"
     ]
    }
   ],
   "source": [
    "a1 = np.array([i for i in range(9)]).reshape(3, 3)\n",
    "a2 = np.array([[1, 2, 3]])\n",
    "a3 = np.array([1, 2, 3])\n",
    "\n",
    "print(a1)\n",
    "print()\n",
    "print(a2)"
   ]
  },
  {
   "cell_type": "code",
   "execution_count": 77,
   "id": "edd3316c",
   "metadata": {},
   "outputs": [
    {
     "name": "stdout",
     "output_type": "stream",
     "text": [
      "(3, 3)\n",
      "\n",
      "(1, 3)\n"
     ]
    }
   ],
   "source": [
    "print(a1.shape)\n",
    "print()\n",
    "print(a2.shape)"
   ]
  },
  {
   "cell_type": "code",
   "execution_count": 78,
   "id": "69b2e793",
   "metadata": {},
   "outputs": [
    {
     "name": "stdout",
     "output_type": "stream",
     "text": [
      "[[ 1  3  5]\n",
      " [ 4  6  8]\n",
      " [ 7  9 11]]\n"
     ]
    }
   ],
   "source": [
    "print(a1+a2)"
   ]
  },
  {
   "cell_type": "code",
   "execution_count": 79,
   "id": "432fa72c",
   "metadata": {},
   "outputs": [
    {
     "name": "stdout",
     "output_type": "stream",
     "text": [
      "(3, 1)\n"
     ]
    }
   ],
   "source": [
    "print(a2.T.shape)"
   ]
  },
  {
   "cell_type": "code",
   "execution_count": 80,
   "id": "29c8253d",
   "metadata": {},
   "outputs": [
    {
     "data": {
      "text/plain": [
       "array([[ 1,  2,  3],\n",
       "       [ 5,  6,  7],\n",
       "       [ 9, 10, 11]])"
      ]
     },
     "execution_count": 80,
     "metadata": {},
     "output_type": "execute_result"
    }
   ],
   "source": [
    "a1 + a2.T"
   ]
  },
  {
   "cell_type": "markdown",
   "id": "df5a3fd7",
   "metadata": {},
   "source": [
    "Broadcasting won't work in the case for 3 $\\times$ 5 $\\times$ 2 with 1 $\\times$ 5. \n",
    "\n",
    "It will work for 3 $\\times$ 5 $\\times$ 2 with 5 $\\times$ 1"
   ]
  },
  {
   "cell_type": "code",
   "execution_count": 86,
   "id": "5d32f0e3",
   "metadata": {},
   "outputs": [
    {
     "name": "stdout",
     "output_type": "stream",
     "text": [
      "(3, 5, 2)\n",
      "\n",
      "(1, 5)\n"
     ]
    }
   ],
   "source": [
    "mat1 = np.array([i for i in range(30)]).reshape(3,5,2)\n",
    "mat2 = np.array([[1,2,3,4,5]])\n",
    "print(mat1.shape)\n",
    "print()\n",
    "print(mat2.shape)"
   ]
  },
  {
   "cell_type": "code",
   "execution_count": 82,
   "id": "383796b0",
   "metadata": {},
   "outputs": [
    {
     "ename": "ValueError",
     "evalue": "operands could not be broadcast together with shapes (10,5,2) (1,5) ",
     "output_type": "error",
     "traceback": [
      "\u001b[1;31m---------------------------------------------------------------------------\u001b[0m",
      "\u001b[1;31mValueError\u001b[0m                                Traceback (most recent call last)",
      "Input \u001b[1;32mIn [82]\u001b[0m, in \u001b[0;36m<cell line: 1>\u001b[1;34m()\u001b[0m\n\u001b[1;32m----> 1\u001b[0m \u001b[38;5;28mprint\u001b[39m(\u001b[43mmat1\u001b[49m\u001b[43m \u001b[49m\u001b[38;5;241;43m+\u001b[39;49m\u001b[43m \u001b[49m\u001b[43mmat2\u001b[49m)\n",
      "\u001b[1;31mValueError\u001b[0m: operands could not be broadcast together with shapes (10,5,2) (1,5) "
     ]
    }
   ],
   "source": [
    "print(mat1 + mat2)"
   ]
  },
  {
   "cell_type": "code",
   "execution_count": 87,
   "id": "79457eb5",
   "metadata": {},
   "outputs": [
    {
     "name": "stdout",
     "output_type": "stream",
     "text": [
      "(5, 1)\n"
     ]
    }
   ],
   "source": [
    "print(mat2.T.shape)"
   ]
  },
  {
   "cell_type": "code",
   "execution_count": 88,
   "id": "4a39b91c",
   "metadata": {},
   "outputs": [
    {
     "name": "stdout",
     "output_type": "stream",
     "text": [
      "[[[ 1  2]\n",
      "  [ 4  5]\n",
      "  [ 7  8]\n",
      "  [10 11]\n",
      "  [13 14]]\n",
      "\n",
      " [[11 12]\n",
      "  [14 15]\n",
      "  [17 18]\n",
      "  [20 21]\n",
      "  [23 24]]\n",
      "\n",
      " [[21 22]\n",
      "  [24 25]\n",
      "  [27 28]\n",
      "  [30 31]\n",
      "  [33 34]]]\n"
     ]
    }
   ],
   "source": [
    "print(mat1 + mat2.T)"
   ]
  },
  {
   "cell_type": "markdown",
   "id": "c780bd13",
   "metadata": {},
   "source": [
    "## Questions\n",
    "\n",
    "1.  Find the dot product of the matrix with any matix. Print the size/shape of the matrix\n",
    "\n",
    "2.  Reverse a numpy array\n",
    "\n",
    "3.  Write a NumPy program to create a 5x5 identity matrix and stack it vertically and horizontally.\n",
    "\n",
    "4. Write a NumPy program to create a 4x4 array with random values and subtract the mean of each column from each element."
   ]
  },
  {
   "cell_type": "code",
   "execution_count": null,
   "id": "b88f076d",
   "metadata": {},
   "outputs": [],
   "source": []
  }
 ],
 "metadata": {
  "kernelspec": {
   "display_name": "Python 3 (ipykernel)",
   "language": "python",
   "name": "python3"
  },
  "language_info": {
   "codemirror_mode": {
    "name": "ipython",
    "version": 3
   },
   "file_extension": ".py",
   "mimetype": "text/x-python",
   "name": "python",
   "nbconvert_exporter": "python",
   "pygments_lexer": "ipython3",
   "version": "3.9.12"
  }
 },
 "nbformat": 4,
 "nbformat_minor": 5
}
