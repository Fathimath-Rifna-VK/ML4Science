{
 "cells": [
  {
   "cell_type": "code",
   "execution_count": 2,
   "id": "768588c4",
   "metadata": {},
   "outputs": [],
   "source": [
    "import pandas as pd"
   ]
  },
  {
   "cell_type": "markdown",
   "id": "30fea4a3",
   "metadata": {},
   "source": [
    "### Part-1\n",
    "*   Use concepts taught in previous tutorial to load qm7.csv\n",
    "*   Filter out the first 1000 enteries\n",
    "*   Take out only the values for \"u0_atom\" column. (what datatype is this new array?)"
   ]
  },
  {
   "cell_type": "code",
   "execution_count": 3,
   "id": "0a92682a",
   "metadata": {},
   "outputs": [
    {
     "name": "stdout",
     "output_type": "stream",
     "text": [
      "[ -417.96  -712.42  -564.21  -404.88  -808.87  -677.16  -796.98  -860.33\n",
      " -1008.49  -861.73] <class 'numpy.ndarray'> (1000,)\n"
     ]
    }
   ],
   "source": [
    "df = pd.read_csv('./Datasets/qm7.csv')\n",
    "df_1000 = df.head(1000)\n",
    "u0_vals = df_1000[\"u0_atom\"].values\n",
    "print(u0_vals[:10], type(u0_vals), u0_vals.shape)"
   ]
  },
  {
   "cell_type": "markdown",
   "id": "4ef07a7a",
   "metadata": {},
   "source": [
    "### Part 2\n",
    "\n",
    "*   Slice the elements based on index from 100-900\n",
    "*   Create a new numpy array \"int_u0_vals\" containg all the elements in the modified u0_vals but in int datatype\n",
    "\n",
    "*  Print the max, min, sum, mean of \"int_u0_vals\""
   ]
  },
  {
   "cell_type": "code",
   "execution_count": 5,
   "id": "e3053612",
   "metadata": {},
   "outputs": [
    {
     "name": "stdout",
     "output_type": "stream",
     "text": [
      "[-1310 -1105 -1122 -1118 -1118 -1271 -1013 -1023] (800,) \n",
      "\n",
      "Metrics of the array -\n",
      " Max:-785\n",
      " Min:-1896\n",
      " Sum:-1120256\n",
      " Mean:-1400.32\n"
     ]
    }
   ],
   "source": [
    "import numpy as np\n",
    "mod_u0_vals = u0_vals[100:900]\n",
    "int_u0_vals = np.array(mod_u0_vals, dtype=np.int64)\n",
    "print(int_u0_vals[:8], int_u0_vals.shape, \"\\n\")\n",
    "\n",
    "max_u0 =  np.max(int_u0_vals)\n",
    "min_u0 =  np.min(int_u0_vals)\n",
    "sum_u0 =  np.sum(int_u0_vals)\n",
    "mean_u0 = np.mean(int_u0_vals)\n",
    "print(f'Metrics of the array -\\n Max:{max_u0}\\n Min:{min_u0}\\n Sum:{sum_u0}\\n Mean:{mean_u0}')"
   ]
  },
  {
   "cell_type": "markdown",
   "id": "f9818e29",
   "metadata": {},
   "source": [
    "### Part 3\n",
    "* Create a function to calculate rmse (root mean squared error) between 2 numpy arrays.\n",
    "* Make numpy arrays a,b by slicing \"int_u0_vals\" from indices (100-300) and (500-700)\n",
    "* Find rmse for a,b"
   ]
  },
  {
   "cell_type": "code",
   "execution_count": 6,
   "id": "36125ad3",
   "metadata": {},
   "outputs": [],
   "source": [
    "def rmse(arr_1, arr_2):\n",
    "  err = np.subtract(arr_1,arr_2)\n",
    "  sqrd_err = (err)**2\n",
    "  mean_sqrd_err = np.mean(sqrd_err)\n",
    "  rmse = np.sqrt(mean_sqrd_err)\n",
    "\n",
    "  return rmse"
   ]
  },
  {
   "cell_type": "code",
   "execution_count": 7,
   "id": "80246c27",
   "metadata": {},
   "outputs": [],
   "source": [
    "def rmse_shorthand(arr_1, arr_2):\n",
    "  return np.sqrt( ((arr_1 - arr_2)**2).mean() ) # Numpy arrays can be directly subtracted"
   ]
  },
  {
   "cell_type": "code",
   "execution_count": 8,
   "id": "cb288674",
   "metadata": {},
   "outputs": [
    {
     "name": "stdout",
     "output_type": "stream",
     "text": [
      "260.3198513367738\n",
      "260.3198513367738\n"
     ]
    }
   ],
   "source": [
    "a,b = int_u0_vals[100:300], int_u0_vals[500:700]\n",
    "\n",
    "print(rmse(a,b))\n",
    "print(rmse_shorthand(a,b))"
   ]
  },
  {
   "cell_type": "code",
   "execution_count": null,
   "id": "8c7189cd",
   "metadata": {},
   "outputs": [],
   "source": []
  }
 ],
 "metadata": {
  "kernelspec": {
   "display_name": "Python 3 (ipykernel)",
   "language": "python",
   "name": "python3"
  },
  "language_info": {
   "codemirror_mode": {
    "name": "ipython",
    "version": 3
   },
   "file_extension": ".py",
   "mimetype": "text/x-python",
   "name": "python",
   "nbconvert_exporter": "python",
   "pygments_lexer": "ipython3",
   "version": "3.9.12"
  }
 },
 "nbformat": 4,
 "nbformat_minor": 5
}
